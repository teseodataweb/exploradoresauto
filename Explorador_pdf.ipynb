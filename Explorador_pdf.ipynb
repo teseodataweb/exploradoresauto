{
 "cells": [
  {
   "cell_type": "markdown",
   "metadata": {},
   "source": [
    "# Automatización **Explorador** *PDF*"
   ]
  },
  {
   "cell_type": "code",
   "execution_count": null,
   "metadata": {},
   "outputs": [],
   "source": [
    "from fpdf import FPDF"
   ]
  },
  {
   "cell_type": "markdown",
   "metadata": {},
   "source": [
    "## Portada"
   ]
  },
  {
   "cell_type": "code",
   "execution_count": null,
   "metadata": {},
   "outputs": [],
   "source": [
    "class PDF(FPDF):\n",
    "    def header(self):        \n",
    "        page_width = self.w\n",
    "        page_height = self.h\n",
    "        \n",
    "        image_width = 120\n",
    "        image_height = 20\n",
    "        y_logo = 25\n",
    "        x_logo = (page_width - image_width) / 2\n",
    "        self.image('tools/DatLogo.png', x_logo, y_logo, image_width)\n",
    "\n",
    "        self.set_font('Arial', 'B', 25)\n",
    "        text = \"EXPLORADOR DE PROPIEDADES\"\n",
    "        text_width = self.get_string_width(text)\n",
    "        x_text = (page_width - text_width) / 2\n",
    "        y_text = y_logo + image_height + 15\n",
    "        self.text(x_text, y_text, text)\n",
    "\n",
    "        self.set_font('Arial', 'I', 19)\n",
    "        text = \"Análisis de precios\"\n",
    "        text_width = self.get_string_width(text)\n",
    "        x_text = (page_width - text_width) / 2\n",
    "        y_text = y_logo + image_height + 25\n",
    "        self.text(x_text, y_text, text)\n",
    "\n",
    "    def footer(self):\n",
    "        self.set_y(-15)\n",
    "        self.set_font('Arial', '', 8)\n",
    "        self.cell(0, 10, 'Page ' + str(self.page_no()) + '/{nb}', 0, 0, 'C')\n",
    "\n",
    "    def add_property_details(self, image_path, property_data):\n",
    "        # Configurar márgenes\n",
    "        margin = 20\n",
    "        self.set_left_margin(margin)\n",
    "        self.set_right_margin(margin)\n",
    "                \n",
    "        available_width = self.w - (2 * margin) #ancho disponible\n",
    "        \n",
    "        # Proporción de columnas (60% - 40%)\n",
    "        left_column_width = available_width * 0.60  \n",
    "        right_column_width = available_width * 0.40 \n",
    "            \n",
    "        initial_y = 85 # Posición Y inicial\n",
    "        \n",
    "        # Imagen de la propiedad (columna izquierda)\n",
    "        self.image(image_path, x=margin, y=initial_y, w=left_column_width - 7)\n",
    "        \n",
    "        # línea divisoria\n",
    "        self.set_draw_color(100,149,237)  \n",
    "        line_x = margin + left_column_width\n",
    "        self.line(line_x, initial_y, line_x, initial_y + 100)\n",
    "        \n",
    "        # Detalles de la propiedad (columna derecha)\n",
    "        x_second_column = margin + left_column_width + 7        \n",
    "        # Ubicación\n",
    "        self.set_xy(x_second_column, initial_y)\n",
    "        self.set_font('Arial', 'B', 14)\n",
    "        self.cell(right_column_width - 10, 10, \"Ubicación de la propiedad\", 0, 1)        \n",
    "        self.set_xy(x_second_column, initial_y + 10)\n",
    "        self.set_font('Arial', '', 12)\n",
    "        self.multi_cell(right_column_width - 10, 5, property_data['ubicacion'])\n",
    "        # Valor\n",
    "        self.set_xy(x_second_column, initial_y + 35)\n",
    "        self.set_font('Arial', 'B', 14)\n",
    "        self.cell(right_column_width - 10, 10, \"Valor de la Propiedad\", 0, 1)        \n",
    "        self.set_xy(x_second_column, initial_y + 45)\n",
    "        self.set_font('Arial', '', 12)\n",
    "        self.cell(right_column_width - 10, 10, f\"${property_data['valor']:,}\", 0, 1)        \n",
    "        # Fecha\n",
    "        self.set_xy(x_second_column, initial_y + 60)\n",
    "        self.set_font('Arial', 'B', 14)\n",
    "        self.cell(right_column_width - 10, 10, \"Fecha de entrega\", 0, 1)        \n",
    "        self.set_xy(x_second_column, initial_y + 70)\n",
    "        self.set_font('Arial', '', 12)\n",
    "        self.cell(right_column_width - 10, 10, property_data['fecha'], 0, 1)\n",
    "\n",
    "# Instancia de PDF\n",
    "pdf = PDF(format='Letter')\n",
    "pdf.alias_nb_pages()\n",
    "pdf.add_page()\n",
    "\n",
    "# Datos de la propiedad\n",
    "property_data = {\n",
    "    'ubicacion': 'Circuito El Cerrito 140, Privadas de La Herradura, CP 42082, Pachuca de Soto, Hidalgo.',\n",
    "    'valor': 3500000,\n",
    "    'fecha': '26/06/2024'\n",
    "}\n",
    "pdf.add_property_details('tools/Propiedad.jpg', property_data)\n",
    "\n",
    "pdf.output('Explorador_1.pdf')"
   ]
  }
 ],
 "metadata": {
  "kernelspec": {
   "display_name": "newst",
   "language": "python",
   "name": "python3"
  },
  "language_info": {
   "name": "python",
   "version": "3.12.7"
  }
 },
 "nbformat": 4,
 "nbformat_minor": 2
}
