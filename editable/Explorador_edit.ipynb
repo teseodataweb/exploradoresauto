{
 "cells": [
  {
   "cell_type": "markdown",
   "metadata": {},
   "source": [
    "# Automatización **Explorador** *DOCX*"
   ]
  },
  {
   "cell_type": "code",
   "execution_count": null,
   "metadata": {},
   "outputs": [],
   "source": [
    "pip install python-docx"
   ]
  },
  {
   "cell_type": "code",
   "execution_count": null,
   "metadata": {},
   "outputs": [],
   "source": [
    "from docx import Document\n",
    "from docx.shared import Inches, Pt\n",
    "from docx.enum.text import WD_ALIGN_PARAGRAPH"
   ]
  },
  {
   "cell_type": "code",
   "execution_count": null,
   "metadata": {},
   "outputs": [],
   "source": [
    "document = Document()\n",
    "\n",
    "document.add_picture('tools/DatLogo.png', width=Inches(3))\n",
    "title = document.add_heading('EXPLORADOR DE PROPIEDADES', 0)\n",
    "title.alignment = WD_ALIGN_PARAGRAPH.CENTER\n",
    "subtitle = document.add_heading('Análisis de precios', 1)\n",
    "subtitle.alignment = WD_ALIGN_PARAGRAPH.CENTER\n",
    "\n",
    "# Detalles de la propiedad\n",
    "property_data = {\n",
    "    'ubicacion': 'Circuito El Cerrito 140, Privadas de La Herradura, CP 42082, Pachuca de Soto, Hidalgo.',\n",
    "    'valor': 3500000,\n",
    "    'fecha': '26/06/2024'\n",
    "}\n",
    "document.add_picture('tools/Propiedad.jpg', width=Inches(4))\n",
    "\n",
    "\n",
    "\n",
    "# Detalles de propiedad:\n",
    "details = document.add_paragraph()\n",
    "details.alignment = WD_ALIGN_PARAGRAPH.LEFT\n",
    "\n",
    "# Ubicación\n",
    "run = details.add_run('Ubicación de la propiedad: ')\n",
    "run.font.bold = True\n",
    "run = details.add_run(property_data['ubicacion'])\n",
    "\n",
    "# Valor\n",
    "details = document.add_paragraph()\n",
    "run = details.add_run('Valor de la Propiedad: ')\n",
    "run.font.bold = True\n",
    "run = details.add_run(f\"${property_data['valor']:,}\")\n",
    "\n",
    "# Fecha\n",
    "details = document.add_paragraph()\n",
    "run = details.add_run('Fecha de entrega: ')\n",
    "run.font.bold = True\n",
    "run = details.add_run(property_data['fecha'])\n",
    "\n",
    "\n",
    "document.save('Explorador.docx')"
   ]
  }
 ],
 "metadata": {
  "kernelspec": {
   "display_name": "newst",
   "language": "python",
   "name": "python3"
  },
  "language_info": {
   "name": "python",
   "version": "3.12.7"
  }
 },
 "nbformat": 4,
 "nbformat_minor": 2
}
